{
 "cells": [
  {
   "cell_type": "code",
   "execution_count": 1,
   "id": "e26fe321",
   "metadata": {},
   "outputs": [],
   "source": [
    "import pandas as pd\n",
    "from preprocess_data import *\n",
    "import argparse \n",
    "from preprocess_data import *\n",
    "import os\n",
    "from string import punctuation\n",
    "import numpy as np\n",
    "import pandas as pd\n",
    "import re \n",
    "from collections import Counter"
   ]
  },
  {
   "cell_type": "markdown",
   "id": "1da4267a",
   "metadata": {},
   "source": [
    "## Read in full dataset, drop some rows to make it smaller"
   ]
  },
  {
   "cell_type": "code",
   "execution_count": 2,
   "id": "482c36af",
   "metadata": {},
   "outputs": [
    {
     "name": "stderr",
     "output_type": "stream",
     "text": [
      "/Users/myradeng/Documents/CS230/cs230-final/preprocess_data.py:29: DtypeWarning: Columns (1,3,5) have mixed types. Specify dtype option on import or set low_memory=False.\n",
      "  data_1 = pd.read_csv(uri1)\n"
     ]
    }
   ],
   "source": [
    "data = read_from_uris('/Users/myradeng/Documents/CS230/cs230-final/all-the-news.csv')"
   ]
  },
  {
   "cell_type": "code",
   "execution_count": 4,
   "id": "68da5ec5",
   "metadata": {},
   "outputs": [],
   "source": [
    "right = ['Fox News', ]\n",
    "left = ['Buzzfeed News', 'CNN', 'New Yorker', 'New Republic', 'The New York Times', 'Vox', 'Vice News', 'Washington Post']\n",
    "moderate = ['Axios', 'Business Insider', 'The Hill', 'Politico', 'CNBC', 'Economist', 'Politico', 'Reuters', 'The Hill']"
   ]
  },
  {
   "cell_type": "code",
   "execution_count": 7,
   "id": "bb479d2b",
   "metadata": {},
   "outputs": [],
   "source": [
    "right_data = data[data['publication'] == 'Fox News']\n",
    "left_data = data[data['publication'].isin(left)]\n",
    "moderate_data = data[data['publication'].isin(moderate)]"
   ]
  },
  {
   "cell_type": "code",
   "execution_count": 9,
   "id": "ce166162",
   "metadata": {},
   "outputs": [],
   "source": [
    "balanced_article_count = min(len(right_data), len(left_data), len(moderate_data))"
   ]
  },
  {
   "cell_type": "code",
   "execution_count": 10,
   "id": "e590df1d",
   "metadata": {},
   "outputs": [
    {
     "data": {
      "text/plain": [
       "20144"
      ]
     },
     "execution_count": 10,
     "metadata": {},
     "output_type": "execute_result"
    }
   ],
   "source": [
    "balanced_article_count"
   ]
  },
  {
   "cell_type": "code",
   "execution_count": 11,
   "id": "8873ffad",
   "metadata": {},
   "outputs": [],
   "source": [
    "def modify_length(data, new_length):\n",
    "    remove_n = len(data) - new_length\n",
    "    drop_indices = np.random.choice(data.index, remove_n, replace=False)\n",
    "    data_cropped = data.drop(drop_indices)\n",
    "    return data_cropped"
   ]
  },
  {
   "cell_type": "code",
   "execution_count": 31,
   "id": "b4df206c",
   "metadata": {},
   "outputs": [],
   "source": [
    "right_data_cropped = modify_length(right_data, int(balanced_article_count / 8))"
   ]
  },
  {
   "cell_type": "code",
   "execution_count": 32,
   "id": "e83bb410",
   "metadata": {},
   "outputs": [],
   "source": [
    "left_data_cropped = modify_length(left_data, int(balanced_article_count / 8))"
   ]
  },
  {
   "cell_type": "code",
   "execution_count": 50,
   "id": "7178d30c",
   "metadata": {},
   "outputs": [],
   "source": [
    "moderate_data_cropped = modify_length(moderate_data, int(balanced_article_count / 5))"
   ]
  },
  {
   "cell_type": "code",
   "execution_count": 225,
   "id": "afa6080d",
   "metadata": {},
   "outputs": [],
   "source": [
    "data_balanced = pd.concat([right_data_cropped, moderate_data_cropped, left_data_cropped], axis=0)"
   ]
  },
  {
   "cell_type": "markdown",
   "id": "19118b38",
   "metadata": {},
   "source": [
    "## Process data"
   ]
  },
  {
   "cell_type": "code",
   "execution_count": 226,
   "id": "f6a77682",
   "metadata": {},
   "outputs": [],
   "source": [
    "data_balanced = data_balanced.rename(columns={\"article\": \"content\"})"
   ]
  },
  {
   "cell_type": "code",
   "execution_count": 229,
   "id": "c76f64be",
   "metadata": {},
   "outputs": [
    {
     "name": "stdout",
     "output_type": "stream",
     "text": [
      "1\n"
     ]
    },
    {
     "name": "stderr",
     "output_type": "stream",
     "text": [
      "/var/folders/zp/rj2crtv10fnb7ytz_gytl7pw0000gn/T/ipykernel_58263/3087362155.py:10: FutureWarning: The default value of regex will change from True to False in a future version.\n",
      "  data['content'] = data['content'].str.replace(' +', ' ')\n"
     ]
    },
    {
     "name": "stdout",
     "output_type": "stream",
     "text": [
      "2\n",
      "3\n",
      "4\n",
      "Male pronoun count: 52066\n",
      "Female pronoun count: 23770\n"
     ]
    }
   ],
   "source": [
    "data_balanced_processed = process_data(data_balanced)"
   ]
  },
  {
   "cell_type": "code",
   "execution_count": 230,
   "id": "10d20836",
   "metadata": {},
   "outputs": [],
   "source": [
    "data_balanced_processed = data_balanced_processed.drop(columns=['Unnamed: 0.1'])"
   ]
  },
  {
   "cell_type": "code",
   "execution_count": 231,
   "id": "1681ed49",
   "metadata": {},
   "outputs": [
    {
     "name": "stdout",
     "output_type": "stream",
     "text": [
      "95132 116520 110431\n"
     ]
    }
   ],
   "source": [
    "print(len(data_balanced_processed[data_balanced_processed['publication'] == 'Fox News']),\n",
    "      len(data_balanced_processed[data_balanced_processed['publication'].isin(left)]),\n",
    "      len(data_balanced_processed[data_balanced_processed['publication'].isin(moderate)]))"
   ]
  },
  {
   "cell_type": "markdown",
   "id": "df635010",
   "metadata": {},
   "source": [
    "### Drop some malformed rows"
   ]
  },
  {
   "cell_type": "code",
   "execution_count": 232,
   "id": "10f31f3d",
   "metadata": {
    "collapsed": true
   },
   "outputs": [
    {
     "name": "stdout",
     "output_type": "stream",
     "text": [
      "date                                          2018-05-15 00:00:00\n",
      "year                                                         2018\n",
      "month                                                         5.0\n",
      "day                                                            15\n",
      "author                                                Brian Flood\n",
      "title           ABC set to dial back political humor from pro-...\n",
      "content         (ABC/Greg Gayne)\\rSARA GILBERT, ROSEANNE BARR\\...\n",
      "url             https://www.foxnews.com/entertainment/abc-set-...\n",
      "section                                                     Media\n",
      "publication                                              Fox News\n",
      "label                                                           0\n",
      "content_list    [(ABC/Greg, Gayne), SARA, GILBERT,, ROSEANNE, ...\n",
      "Name: 11333, dtype: object\n",
      "date                                          2016-06-29 17:10:05\n",
      "year                                                         2016\n",
      "month                                                         6.0\n",
      "day                                                            29\n",
      "author                                           Zachary Crockett\n",
      "title           This woman teaches you how to legally grow wee...\n",
      "content           \" <!--\\r PLAYGIF_DISABLE_FLAG = true;\\r // -->.\n",
      "url             https://www.vox.com/2016/6/29/12056942/how-to-...\n",
      "section                                                       NaN\n",
      "publication                                                   Vox\n",
      "label                                                           0\n",
      "content_list    [\", <!--, PLAYGIF_DISABLE_FLAG, =, true;, //, ...\n",
      "Name: 217845, dtype: object\n",
      "date                                          2016-02-05 01:00:02\n",
      "year                                                         2016\n",
      "month                                                         2.0\n",
      "day                                                             5\n",
      "author                                                  Dara Lind\n",
      "title           Vox Sentences: #YOLObama plans to include an o...\n",
      "content         newsletter-li {\\r margin: 20px 0;\\r font-size: 1.\n",
      "url             https://www.vox.com/2016/2/4/10919780/vox-sent...\n",
      "section                                                       NaN\n",
      "publication                                                   Vox\n",
      "label                                                           0\n",
      "content_list    [newsletter-li, {, margin:, 20px, 0;, font-siz...\n",
      "Name: 223996, dtype: object\n",
      "date                                          2016-02-05 01:00:02\n",
      "year                                                         2016\n",
      "month                                                         2.0\n",
      "day                                                             5\n",
      "author                                                  Dara Lind\n",
      "title           Vox Sentences: #YOLObama plans to include an o...\n",
      "content                                   1em !important;\\r }\\r .\n",
      "url             https://www.vox.com/2016/2/4/10919780/vox-sent...\n",
      "section                                                       NaN\n",
      "publication                                                   Vox\n",
      "label                                                           0\n",
      "content_list                             [1em, !important;, }, .]\n",
      "Name: 223997, dtype: object\n",
      "date                                          2016-02-05 01:00:02\n",
      "year                                                         2016\n",
      "month                                                         2.0\n",
      "day                                                             5\n",
      "author                                                  Dara Lind\n",
      "title           Vox Sentences: #YOLObama plans to include an o...\n",
      "content         newsletter-li:before {\\r background: #808285 !...\n",
      "url             https://www.vox.com/2016/2/4/10919780/vox-sent...\n",
      "section                                                       NaN\n",
      "publication                                                   Vox\n",
      "label                                                           0\n",
      "content_list    [newsletter-li:before, {, background:, #808285...\n",
      "Name: 223998, dtype: object\n",
      "date                                          2016-02-05 01:00:02\n",
      "year                                                         2016\n",
      "month                                                         2.0\n",
      "day                                                             5\n",
      "author                                                  Dara Lind\n",
      "title           Vox Sentences: #YOLObama plans to include an o...\n",
      "content         newsletter-ul {\\r margin: 0 0 0 30px !importan...\n",
      "url             https://www.vox.com/2016/2/4/10919780/vox-sent...\n",
      "section                                                       NaN\n",
      "publication                                                   Vox\n",
      "label                                                           0\n",
      "content_list    [newsletter-ul, {, margin:, 0, 0, 0, 30px, !im...\n",
      "Name: 223999, dtype: object\n",
      "date                                          2016-02-05 01:00:02\n",
      "year                                                         2016\n",
      "month                                                         2.0\n",
      "day                                                             5\n",
      "author                                                  Dara Lind\n",
      "title           Vox Sentences: #YOLObama plans to include an o...\n",
      "content                            newsletter-p {\\r font-size: 1.\n",
      "url             https://www.vox.com/2016/2/4/10919780/vox-sent...\n",
      "section                                                       NaN\n",
      "publication                                                   Vox\n",
      "label                                                           0\n",
      "content_list                    [newsletter-p, {, font-size:, 1.]\n",
      "Name: 224000, dtype: object\n",
      "date                                          2016-02-05 01:00:02\n",
      "year                                                         2016\n",
      "month                                                         2.0\n",
      "day                                                             5\n",
      "author                                                  Dara Lind\n",
      "title           Vox Sentences: #YOLObama plans to include an o...\n",
      "content                                          2em;\\r margin: .\n",
      "url             https://www.vox.com/2016/2/4/10919780/vox-sent...\n",
      "section                                                       NaN\n",
      "publication                                                   Vox\n",
      "label                                                           0\n",
      "content_list                                   [2em;, margin:, .]\n",
      "Name: 224001, dtype: object\n",
      "date                                          2016-02-05 01:00:02\n",
      "year                                                         2016\n",
      "month                                                         2.0\n",
      "day                                                             5\n",
      "author                                                  Dara Lind\n",
      "title           Vox Sentences: #YOLObama plans to include an o...\n",
      "content                                 3em 0 !important;\\r }\\r .\n",
      "url             https://www.vox.com/2016/2/4/10919780/vox-sent...\n",
      "section                                                       NaN\n",
      "publication                                                   Vox\n",
      "label                                                           0\n",
      "content_list                          [3em, 0, !important;, }, .]\n",
      "Name: 224002, dtype: object\n",
      "date                                          2016-02-05 01:00:02\n",
      "year                                                         2016\n",
      "month                                                         2.0\n",
      "day                                                             5\n",
      "author                                                  Dara Lind\n",
      "title           Vox Sentences: #YOLObama plans to include an o...\n",
      "content         newsletter-h3{\\r color: #363636;\\r font-weight...\n",
      "url             https://www.vox.com/2016/2/4/10919780/vox-sent...\n",
      "section                                                       NaN\n",
      "publication                                                   Vox\n",
      "label                                                           0\n",
      "content_list    [newsletter-h3{, color:, #363636;, font-weight...\n",
      "Name: 224003, dtype: object\n",
      "date                                          2016-02-05 01:00:02\n",
      "year                                                         2016\n",
      "month                                                         2.0\n",
      "day                                                             5\n",
      "author                                                  Dara Lind\n",
      "title           Vox Sentences: #YOLObama plans to include an o...\n",
      "content         newsletter-sponsored {\\r font-size: 70%;\\r ver...\n",
      "url             https://www.vox.com/2016/2/4/10919780/vox-sent...\n",
      "section                                                       NaN\n",
      "publication                                                   Vox\n",
      "label                                                           0\n",
      "content_list    [newsletter-sponsored, {, font-size:, 70%;, ve...\n",
      "Name: 224004, dtype: object\n",
      "date                                          2016-02-05 01:00:02\n",
      "year                                                         2016\n",
      "month                                                         2.0\n",
      "day                                                             5\n",
      "author                                                  Dara Lind\n",
      "title           Vox Sentences: #YOLObama plans to include an o...\n",
      "content         newsletter-sponsored__image img {\\r display: i...\n",
      "url             https://www.vox.com/2016/2/4/10919780/vox-sent...\n",
      "section                                                       NaN\n",
      "publication                                                   Vox\n",
      "label                                                           0\n",
      "content_list    [newsletter-sponsored__image, img, {, display:...\n",
      "Name: 224005, dtype: object\n",
      "date                                          2016-02-05 01:00:02\n",
      "year                                                         2016\n",
      "month                                                         2.0\n",
      "day                                                             5\n",
      "author                                                  Dara Lind\n",
      "title           Vox Sentences: #YOLObama plans to include an o...\n",
      "content           newsletter-logo {\\r text-align: center;\\r }\\r .\n",
      "url             https://www.vox.com/2016/2/4/10919780/vox-sent...\n",
      "section                                                       NaN\n",
      "publication                                                   Vox\n",
      "label                                                           0\n",
      "content_list     [newsletter-logo, {, text-align:, center;, }, .]\n",
      "Name: 224006, dtype: object\n",
      "date                                          2016-02-05 01:00:02\n",
      "year                                                         2016\n",
      "month                                                         2.0\n",
      "day                                                             5\n",
      "author                                                  Dara Lind\n",
      "title           Vox Sentences: #YOLObama plans to include an o...\n",
      "content         newsletter-logo img {\\r max-width: 400px;\\r wi...\n",
      "url             https://www.vox.com/2016/2/4/10919780/vox-sent...\n",
      "section                                                       NaN\n",
      "publication                                                   Vox\n",
      "label                                                           0\n",
      "content_list    [newsletter-logo, img, {, max-width:, 400px;, ...\n",
      "Name: 224007, dtype: object\n",
      "date                                          2016-02-05 01:00:02\n",
      "year                                                         2016\n",
      "month                                                         2.0\n",
      "day                                                             5\n",
      "author                                                  Dara Lind\n",
      "title           Vox Sentences: #YOLObama plans to include an o...\n",
      "content                        newsletter-source {\\r font-size: .\n",
      "url             https://www.vox.com/2016/2/4/10919780/vox-sent...\n",
      "section                                                       NaN\n",
      "publication                                                   Vox\n",
      "label                                                           0\n",
      "content_list                [newsletter-source, {, font-size:, .]\n",
      "Name: 224008, dtype: object\n",
      "date                                          2016-02-05 01:00:02\n",
      "year                                                         2016\n",
      "month                                                         2.0\n",
      "day                                                             5\n",
      "author                                                  Dara Lind\n",
      "title           Vox Sentences: #YOLObama plans to include an o...\n",
      "content                                              9em;\\r }\\r .\n",
      "url             https://www.vox.com/2016/2/4/10919780/vox-sent...\n",
      "section                                                       NaN\n",
      "publication                                                   Vox\n",
      "label                                                           0\n",
      "content_list                                         [9em;, }, .]\n",
      "Name: 224009, dtype: object\n",
      "date                                          2016-02-05 01:00:02\n",
      "year                                                         2016\n",
      "month                                                         2.0\n",
      "day                                                             5\n",
      "author                                                  Dara Lind\n",
      "title           Vox Sentences: #YOLObama plans to include an o...\n",
      "content         newsletter-signup-container {\\r border-top: #e...\n",
      "url             https://www.vox.com/2016/2/4/10919780/vox-sent...\n",
      "section                                                       NaN\n",
      "publication                                                   Vox\n",
      "label                                                           0\n",
      "content_list    [newsletter-signup-container, {, border-top:, ...\n",
      "Name: 224010, dtype: object\n",
      "date                                          2016-02-05 01:00:02\n",
      "year                                                         2016\n",
      "month                                                         2.0\n",
      "day                                                             5\n",
      "author                                                  Dara Lind\n",
      "title           Vox Sentences: #YOLObama plans to include an o...\n",
      "content         newsletter-signup {\\r margin-top: 1em;\\r text-...\n",
      "url             https://www.vox.com/2016/2/4/10919780/vox-sent...\n",
      "section                                                       NaN\n",
      "publication                                                   Vox\n",
      "label                                                           0\n",
      "content_list    [newsletter-signup, {, margin-top:, 1em;, text...\n",
      "Name: 224011, dtype: object\n",
      "date                                          2016-02-05 01:00:02\n",
      "year                                                         2016\n",
      "month                                                         2.0\n",
      "day                                                             5\n",
      "author                                                  Dara Lind\n",
      "title           Vox Sentences: #YOLObama plans to include an o...\n",
      "content         newsletter-signup h2 {\\r font-family: \"Harriet...\n",
      "url             https://www.vox.com/2016/2/4/10919780/vox-sent...\n",
      "section                                                       NaN\n",
      "publication                                                   Vox\n",
      "label                                                           0\n",
      "content_list    [newsletter-signup, h2, {, font-family:, \"Harr...\n",
      "Name: 224012, dtype: object\n",
      "date                                          2016-02-05 01:00:02\n",
      "year                                                         2016\n",
      "month                                                         2.0\n",
      "day                                                             5\n",
      "author                                                  Dara Lind\n",
      "title           Vox Sentences: #YOLObama plans to include an o...\n",
      "content                        newsletter-intro {\\r font-size: 1.\n",
      "url             https://www.vox.com/2016/2/4/10919780/vox-sent...\n",
      "section                                                       NaN\n",
      "publication                                                   Vox\n",
      "label                                                           0\n",
      "content_list                [newsletter-intro, {, font-size:, 1.]\n",
      "Name: 224013, dtype: object\n",
      "date                                          2016-02-05 01:00:02\n",
      "year                                                         2016\n",
      "month                                                         2.0\n",
      "day                                                             5\n",
      "author                                                  Dara Lind\n",
      "title           Vox Sentences: #YOLObama plans to include an o...\n",
      "content                                          4em;\\r margin: .\n",
      "url             https://www.vox.com/2016/2/4/10919780/vox-sent...\n",
      "section                                                       NaN\n",
      "publication                                                   Vox\n",
      "label                                                           0\n",
      "content_list                                   [4em;, margin:, .]\n",
      "Name: 224014, dtype: object\n",
      "date                                          2016-02-05 01:00:02\n",
      "year                                                         2016\n",
      "month                                                         2.0\n",
      "day                                                             5\n",
      "author                                                  Dara Lind\n",
      "title           Vox Sentences: #YOLObama plans to include an o...\n",
      "content                                 3em 0 !important;\\r }\\r .\n",
      "url             https://www.vox.com/2016/2/4/10919780/vox-sent...\n",
      "section                                                       NaN\n",
      "publication                                                   Vox\n",
      "label                                                           0\n",
      "content_list                          [3em, 0, !important;, }, .]\n",
      "Name: 224015, dtype: object\n",
      "date                                          2016-02-05 01:00:02\n",
      "year                                                         2016\n",
      "month                                                         2.0\n",
      "day                                                             5\n",
      "author                                                  Dara Lind\n",
      "title           Vox Sentences: #YOLObama plans to include an o...\n",
      "content         newsletter-section {\\r background-color: #fff2...\n",
      "url             https://www.vox.com/2016/2/4/10919780/vox-sent...\n",
      "section                                                       NaN\n",
      "publication                                                   Vox\n",
      "label                                                           0\n",
      "content_list    [newsletter-section, {, background-color:, #ff...\n",
      "Name: 224016, dtype: object\n"
     ]
    }
   ],
   "source": [
    "indices = []\n",
    "count = 0\n",
    "for row_index, row in data_balanced_processed.iterrows():\n",
    "    if re.search(r\"\\\\r\", str(row)):\n",
    "        print(row)               #Return type is pandas.Series\n",
    "        indices.append(row_index)\n",
    "        count +=1"
   ]
  },
  {
   "cell_type": "code",
   "execution_count": 233,
   "id": "c569251d",
   "metadata": {
    "collapsed": true
   },
   "outputs": [
    {
     "data": {
      "text/plain": [
       "[11333,\n",
       " 217845,\n",
       " 223996,\n",
       " 223997,\n",
       " 223998,\n",
       " 223999,\n",
       " 224000,\n",
       " 224001,\n",
       " 224002,\n",
       " 224003,\n",
       " 224004,\n",
       " 224005,\n",
       " 224006,\n",
       " 224007,\n",
       " 224008,\n",
       " 224009,\n",
       " 224010,\n",
       " 224011,\n",
       " 224012,\n",
       " 224013,\n",
       " 224014,\n",
       " 224015,\n",
       " 224016]"
      ]
     },
     "execution_count": 233,
     "metadata": {},
     "output_type": "execute_result"
    }
   ],
   "source": [
    "indices"
   ]
  },
  {
   "cell_type": "code",
   "execution_count": 234,
   "id": "6b5475f8",
   "metadata": {},
   "outputs": [],
   "source": [
    "data_balanced_processed.drop(index=indices,inplace=True)"
   ]
  },
  {
   "cell_type": "code",
   "execution_count": 235,
   "id": "b72faf8f",
   "metadata": {
    "scrolled": true
   },
   "outputs": [
    {
     "name": "stdout",
     "output_type": "stream",
     "text": [
      "Created new directory at: /Users/myradeng/Documents/CS230/cs230-final/data-pt-2\n",
      "Writing data to: /Users/myradeng/Documents/CS230/cs230-final/data-pt-2\n"
     ]
    }
   ],
   "source": [
    "write_data_to_dir(data_balanced_processed, '/Users/myradeng/Documents/CS230/cs230-final/data-pt-2')"
   ]
  },
  {
   "cell_type": "markdown",
   "id": "6ebfc160",
   "metadata": {},
   "source": [
    "### Sanity checks"
   ]
  },
  {
   "cell_type": "code",
   "execution_count": 240,
   "id": "ec5ba29e",
   "metadata": {
    "collapsed": true
   },
   "outputs": [
    {
     "name": "stderr",
     "output_type": "stream",
     "text": [
      "Using custom data configuration myradeng--cs-230-news-v2-8c9da6f3f3e55055\n"
     ]
    },
    {
     "name": "stdout",
     "output_type": "stream",
     "text": [
      "Downloading and preparing dataset csv/myradeng--cs-230-news-v2 to /Users/myradeng/.cache/huggingface/datasets/myradeng___csv/myradeng--cs-230-news-v2-8c9da6f3f3e55055/0.0.0/433e0ccc46f9880962cc2b12065189766fbb2bee57a221866138fb9203c83519...\n"
     ]
    },
    {
     "name": "stderr",
     "output_type": "stream",
     "text": [
      "Downloading data files:   0%|                                                                                     | 0/3 [00:00<?, ?it/s]\n",
      "Downloading data:   0%|                                                                                      | 0.00/129M [00:00<?, ?B/s]\u001b[A\n",
      "Downloading data:   2%|█▉                                                                           | 3.18M/129M [00:00<00:04, 31.4MB/s]\u001b[A\n",
      "Downloading data:   6%|████▎                                                                        | 7.27M/129M [00:00<00:03, 36.7MB/s]\u001b[A\n",
      "Downloading data:   9%|██████▉                                                                      | 11.7M/129M [00:00<00:02, 40.1MB/s]\u001b[A\n",
      "Downloading data:  12%|█████████▌                                                                   | 16.0M/129M [00:00<00:02, 41.1MB/s]\u001b[A\n",
      "Downloading data:  16%|███████████▉                                                                 | 20.1M/129M [00:00<00:02, 41.4MB/s]\u001b[A\n",
      "Downloading data:  19%|██████████████▌                                                              | 24.5M/129M [00:00<00:02, 42.0MB/s]\u001b[A\n",
      "Downloading data:  22%|█████████████████▏                                                           | 28.8M/129M [00:00<00:02, 42.3MB/s]\u001b[A\n",
      "Downloading data:  26%|███████████████████▋                                                         | 33.1M/129M [00:00<00:02, 42.6MB/s]\u001b[A\n",
      "Downloading data:  29%|██████████████████████▎                                                      | 37.4M/129M [00:00<00:02, 42.7MB/s]\u001b[A\n",
      "Downloading data:  32%|████████████████████████▊                                                    | 41.7M/129M [00:01<00:02, 41.9MB/s]\u001b[A\n",
      "Downloading data:  35%|███████████████████████████▎                                                 | 45.9M/129M [00:01<00:02, 40.7MB/s]\u001b[A\n",
      "Downloading data:  39%|█████████████████████████████▋                                               | 50.0M/129M [00:01<00:02, 39.7MB/s]\u001b[A\n",
      "Downloading data:  42%|████████████████████████████████                                             | 53.9M/129M [00:01<00:01, 39.2MB/s]\u001b[A\n",
      "Downloading data:  45%|██████████████████████████████████▍                                          | 57.9M/129M [00:01<00:01, 39.1MB/s]\u001b[A\n",
      "Downloading data:  48%|████████████████████████████████████▊                                        | 61.8M/129M [00:01<00:01, 36.5MB/s]\u001b[A\n",
      "Downloading data:  51%|███████████████████████████████████████▎                                     | 66.1M/129M [00:01<00:01, 38.2MB/s]\u001b[A\n",
      "Downloading data:  54%|█████████████████████████████████████████▉                                   | 70.4M/129M [00:01<00:01, 39.5MB/s]\u001b[A\n",
      "Downloading data:  58%|████████████████████████████████████████████▎                                | 74.4M/129M [00:01<00:01, 39.0MB/s]\u001b[A\n",
      "Downloading data:  61%|██████████████████████████████████████████████▌                              | 78.3M/129M [00:01<00:01, 38.9MB/s]\u001b[A\n",
      "Downloading data:  64%|████████████████████████████████████████████████▉                            | 82.2M/129M [00:02<00:01, 38.4MB/s]\u001b[A\n",
      "Downloading data:  67%|███████████████████████████████████████████████████▏                         | 86.1M/129M [00:02<00:01, 38.2MB/s]\u001b[A\n",
      "Downloading data:  70%|█████████████████████████████████████████████████████▌                       | 89.9M/129M [00:02<00:01, 38.4MB/s]\u001b[A\n",
      "Downloading data:  73%|███████████████████████████████████████████████████████▊                     | 93.8M/129M [00:02<00:00, 38.5MB/s]\u001b[A\n",
      "Downloading data:  76%|██████████████████████████████████████████████████████████▏                  | 97.7M/129M [00:02<00:00, 38.2MB/s]\u001b[A\n",
      "Downloading data:  79%|█████████████████████████████████████████████████████████████▏                | 102M/129M [00:02<00:00, 38.4MB/s]\u001b[A\n",
      "Downloading data:  82%|███████████████████████████████████████████████████████████████▌              | 105M/129M [00:02<00:00, 38.5MB/s]\u001b[A\n",
      "Downloading data:  84%|█████████████████████████████████████████████████████████████████▉            | 109M/129M [00:02<00:00, 38.4MB/s]\u001b[A\n",
      "Downloading data:  87%|████████████████████████████████████████████████████████████████████▏         | 113M/129M [00:02<00:00, 38.2MB/s]\u001b[A\n",
      "Downloading data:  90%|██████████████████████████████████████████████████████████████████████▌       | 117M/129M [00:02<00:00, 36.9MB/s]\u001b[A\n",
      "Downloading data:  93%|████████████████████████████████████████████████████████████████████████▊     | 121M/129M [00:03<00:00, 36.5MB/s]\u001b[A\n",
      "Downloading data:  96%|███████████████████████████████████████████████████████████████████████████   | 124M/129M [00:03<00:00, 36.9MB/s]\u001b[A\n",
      "Downloading data: 100%|██████████████████████████████████████████████████████████████████████████████| 129M/129M [00:03<00:00, 38.9MB/s]\u001b[A\n",
      "Downloading data files:  33%|█████████████████████████▋                                                   | 1/3 [00:03<00:07,  3.92s/it]\n",
      "Downloading data:   0%|                                                                                     | 0.00/16.2M [00:00<?, ?B/s]\u001b[A\n",
      "Downloading data:  19%|██████████████▊                                                             | 3.15M/16.2M [00:00<00:00, 31.5MB/s]\u001b[A\n",
      "Downloading data:  46%|██████████████████████████████████▌                                         | 7.37M/16.2M [00:00<00:00, 37.8MB/s]\u001b[A\n",
      "Downloading data:  72%|██████████████████████████████████████████████████████▉                     | 11.7M/16.2M [00:00<00:00, 40.3MB/s]\u001b[A\n",
      "Downloading data: 100%|████████████████████████████████████████████████████████████████████████████| 16.2M/16.2M [00:00<00:00, 39.9MB/s]\u001b[A\n",
      "Downloading data files:  67%|███████████████████████████████████████████████████▎                         | 2/3 [00:04<00:02,  2.10s/it]\n",
      "Downloading data:   0%|                                                                                     | 0.00/16.2M [00:00<?, ?B/s]\u001b[A\n",
      "Downloading data:   7%|█████▌                                                                      | 1.18M/16.2M [00:00<00:01, 11.8MB/s]\u001b[A\n",
      "Downloading data:  35%|██████████████████████████▍                                                 | 5.61M/16.2M [00:00<00:00, 30.8MB/s]\u001b[A\n",
      "Downloading data:  57%|███████████████████████████████████████████▌                                | 9.28M/16.2M [00:00<00:00, 32.4MB/s]\u001b[A\n",
      "Downloading data: 100%|████████████████████████████████████████████████████████████████████████████| 16.2M/16.2M [00:00<00:00, 36.3MB/s]\u001b[A\n",
      "Downloading data files: 100%|█████████████████████████████████████████████████████████████████████████████| 3/3 [00:05<00:00,  1.92s/it]\n",
      "Extracting data files: 100%|█████████████████████████████████████████████████████████████████████████████| 3/3 [00:00<00:00, 249.09it/s]\n"
     ]
    },
    {
     "name": "stdout",
     "output_type": "stream",
     "text": [
      "Dataset csv downloaded and prepared to /Users/myradeng/.cache/huggingface/datasets/myradeng___csv/myradeng--cs-230-news-v2-8c9da6f3f3e55055/0.0.0/433e0ccc46f9880962cc2b12065189766fbb2bee57a221866138fb9203c83519. Subsequent calls will reuse this data.\n"
     ]
    },
    {
     "name": "stderr",
     "output_type": "stream",
     "text": [
      "100%|████████████████████████████████████████████████████████████████████████████████████████████████████| 3/3 [00:00<00:00, 170.64it/s]\n"
     ]
    }
   ],
   "source": [
    "from datasets import load_dataset\n",
    "dataset = load_dataset(\"myradeng/cs-230-news-v2\")"
   ]
  },
  {
   "cell_type": "code",
   "execution_count": 242,
   "id": "5e4a47e1",
   "metadata": {},
   "outputs": [],
   "source": [
    "test = pd.read_csv('/Users/myradeng/Documents/CS230/cs230-final/data-pt-2/test.csv')"
   ]
  },
  {
   "cell_type": "code",
   "execution_count": 243,
   "id": "a0f68152",
   "metadata": {},
   "outputs": [],
   "source": [
    "right_data = test[test['publication'] == 'Fox News']\n",
    "left_data = test[test['publication'].isin(left)]\n",
    "moderate_data = test[test['publication'].isin(moderate)]"
   ]
  },
  {
   "cell_type": "code",
   "execution_count": 241,
   "id": "9bcb0b5d",
   "metadata": {},
   "outputs": [
    {
     "data": {
      "text/plain": [
       "DatasetDict({\n",
       "    train: Dataset({\n",
       "        features: ['Unnamed: 0', 'date', 'year', 'month', 'day', 'author', 'title', 'content', 'url', 'section', 'publication', 'label', 'content_list'],\n",
       "        num_rows: 257648\n",
       "    })\n",
       "    test: Dataset({\n",
       "        features: ['Unnamed: 0', 'date', 'year', 'month', 'day', 'author', 'title', 'content', 'url', 'section', 'publication', 'label', 'content_list'],\n",
       "        num_rows: 32206\n",
       "    })\n",
       "    validation: Dataset({\n",
       "        features: ['Unnamed: 0', 'date', 'year', 'month', 'day', 'author', 'title', 'content', 'url', 'section', 'publication', 'label', 'content_list'],\n",
       "        num_rows: 32206\n",
       "    })\n",
       "})"
      ]
     },
     "execution_count": 241,
     "metadata": {},
     "output_type": "execute_result"
    }
   ],
   "source": [
    "dataset"
   ]
  },
  {
   "cell_type": "markdown",
   "id": "12abbb87",
   "metadata": {},
   "source": [
    "## Functions"
   ]
  },
  {
   "cell_type": "code",
   "execution_count": 106,
   "id": "7aa1c85b",
   "metadata": {},
   "outputs": [],
   "source": [
    "import contractions"
   ]
  },
  {
   "cell_type": "code",
   "execution_count": 97,
   "id": "3abc9e19",
   "metadata": {},
   "outputs": [],
   "source": [
    "def write_data_to_dir(data, output_dir):\n",
    "    # Shuffle and split data intro train, dev, test \n",
    "    data = shuffle_data(data)\n",
    "    split_1 = int(0.8 * len(data))\n",
    "    split_2 = int(0.9 * len(data))\n",
    "    train_data = data[:split_1]\n",
    "    dev_data = data[split_1:split_2]\n",
    "    test_data = data[split_2:]\n",
    "\n",
    "    # Write data out to three separate files under output dir \n",
    "    if not os.path.exists(output_dir):\n",
    "        os.makedirs(output_dir)\n",
    "        print('Created new directory at: ' + output_dir)\n",
    "    print('Writing data to: ' + output_dir)\n",
    "    train_data.to_csv(output_dir + '/train.csv')\n",
    "    dev_data.to_csv(output_dir + '/dev.csv')\n",
    "    test_data.to_csv(output_dir + '/test.csv')"
   ]
  },
  {
   "cell_type": "code",
   "execution_count": 228,
   "id": "d9dbfeb3",
   "metadata": {},
   "outputs": [],
   "source": [
    "def process_data(data):\n",
    "    #output_dir = '/Users/myradeng/Documents/CS230/cs-230-final/' + data_type + '-data'\n",
    "    filter_gender = False\n",
    "    proportion_gender = False\n",
    "    ratio = 1.3\n",
    "    \n",
    "    print(\"1\")\n",
    "    data = data.drop(columns=['Unnamed: 0'])\n",
    "    data = data[data['content'].notna()]\n",
    "    data['content'] = data['content'].str.replace(' +', ' ')\n",
    "    data['label'] = 0\n",
    "    \n",
    "\n",
    "    print(\"2\")\n",
    "    # Split data entries into separate sentences and remove empty strings\n",
    "    data = split_df_list(data, 'content', '.')\n",
    "    data = data[data['content'].str.len() > 0]\n",
    "    print(\"3\")\n",
    "    data['content'] = np.where(data['content'].str.endswith('.'), data['content'], data['content'] + '.')\n",
    "    data['content'] = data['content'].str.strip()\n",
    "    data['content'] = data['content'].astype(str)\n",
    "    data['content'] = data['content'].apply(lambda x: contractions.fix(x))\n",
    "\n",
    "    data['content' + \"_list\"] = data['content'].str.split()\n",
    "    print(\"4\")\n",
    "    # (Configurable) Filter for single instance pronoun entries\n",
    "    if filter_gender:\n",
    "        data['pronoun_count'] = data.apply(lambda row: sum([item in row['content_list'] for item in woman_keywords + man_keywords]), axis=1)\n",
    "        data = data[data['pronoun_count'] == 1]\n",
    "\n",
    "    # Count initial gender proportions\n",
    "    female_pronoun_count, male_pronoun_count = count_gender_entries(data)\n",
    "    print('Male pronoun count: ' + str(male_pronoun_count))\n",
    "    print('Female pronoun count: ' + str(female_pronoun_count))\n",
    "\n",
    "    # Ensure approx equal split between male / female gender pronouns in training data\n",
    "    if proportion_gender:\n",
    "        data = proportion_gender_entries(data, male_pronoun_count, female_pronoun_count, ratio)\n",
    "        female_pronoun_count, male_pronoun_count = count_gender_entries(data)\n",
    "        print('Male pronoun count after rebalancing: ' + str(male_pronoun_count))\n",
    "        print('Female pronoun count after rebalancing: ' + str(female_pronoun_count))\n",
    "    \n",
    "    return data"
   ]
  },
  {
   "cell_type": "code",
   "execution_count": 227,
   "id": "392e325d",
   "metadata": {},
   "outputs": [],
   "source": [
    "woman_keywords = ['woman', 'women', 'female', 'she', 'her', 'hers']\n",
    "man_keywords = ['man', 'men', 'male', 'he', 'his', 'him']\n",
    "CONTENT_COLUMN_NAME = 'content'\n",
    "\n",
    "\n",
    "def shuffle_data(df, seed=0):\n",
    "\treturn df.sample(frac=1, random_state=0)\n",
    "\n",
    "def parse_args():\n",
    "\tparser = argparse.ArgumentParser(description='Process input files into train, dev, test')\n",
    "\tparser.add_argument('-i', dest='input_uri', type=str)\n",
    "\tparser.add_argument('-o', dest='output_dir', type=str)\n",
    "\t# Whether to filter for only sentences with a gender pronoun present \n",
    "\tparser.add_argument('--filter_gender', default=False, action=argparse.BooleanOptionalAction)\n",
    "\t# This is a hyperparameter used to tune how many rows to drop in order to achieve roughly ~50/50 pronoun balance\n",
    "\tparser.add_argument('-r', dest='ratio_param', type=str, default=1.35)\n",
    "\treturn parser\n",
    "\n",
    "def filter_gender_entries(data):\n",
    "\tgender_keyword_filtered_df = data[data[CONTENT_COLUMN_NAME + \"_list\"].apply(lambda x: any([k in x for k in woman_keywords]))]\n",
    "\tgender_keyword_filtered_df = gender_keyword_filtered_df[gender_keyword_filtered_df[CONTENT_COLUMN_NAME + \"_list\"].apply(lambda x: any([k in x for k in man_keywords]))]\n",
    "\treturn gender_keyword_filtered_df\n",
    "\n",
    "# TODO: Make this more systematic rather than an approximation\n",
    "def proportion_gender_entries(data, male_pronoun_count, female_pronoun_count, ratio):\n",
    "\twomen = data[data['content_list'].apply(lambda x: any([k in x for k in woman_keywords]))]\n",
    "\tmen = data[data['content_list'].apply(lambda x: any([k in x for k in man_keywords]))]\n",
    "\tmen_with_women = men[men['content_list'].apply(lambda x: any([k in x for k in woman_keywords]))]\n",
    "\tmen_no_women = men[men['content_list'].apply(lambda x: any([k in x for k in woman_keywords]) == False)]\n",
    "\n",
    "\tremove_n = int((male_pronoun_count - female_pronoun_count) / ratio)\n",
    "\tdrop_indices = np.random.choice(men_no_women.index, remove_n, replace=False)\n",
    "\tmen_no_women_subset = men_no_women.drop(drop_indices)\n",
    "\trebalanced = pd.concat([women, men_no_women_subset], axis=0)\n",
    "\treturn rebalanced\n",
    "\n",
    "def count_gender_entries(data):\n",
    "\tseries = pd.Series(Counter([y for x in data[CONTENT_COLUMN_NAME + \"_list\"] for y in x]))\n",
    "\tfemale_pronoun_count = 0\n",
    "\tmale_pronoun_count = 0 \n",
    "\tfor female_pronoun in woman_keywords:\n",
    "\t\tfemale_pronoun_count += series[female_pronoun]\n",
    "\tfor male_pronoun in man_keywords:\n",
    "\t\tmale_pronoun_count += series[male_pronoun]\n",
    "\n",
    "\treturn female_pronoun_count, male_pronoun_count"
   ]
  }
 ],
 "metadata": {
  "kernelspec": {
   "display_name": "test2",
   "language": "python",
   "name": "test2"
  },
  "language_info": {
   "codemirror_mode": {
    "name": "ipython",
    "version": 3
   },
   "file_extension": ".py",
   "mimetype": "text/x-python",
   "name": "python",
   "nbconvert_exporter": "python",
   "pygments_lexer": "ipython3",
   "version": "3.9.12"
  }
 },
 "nbformat": 4,
 "nbformat_minor": 5
}
